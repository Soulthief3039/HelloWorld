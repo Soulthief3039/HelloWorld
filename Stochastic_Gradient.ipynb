{
  "nbformat": 4,
  "nbformat_minor": 0,
  "metadata": {
    "colab": {
      "provenance": [],
      "authorship_tag": "ABX9TyO/NSbh0EUpQrMMtgJy8fAS",
      "include_colab_link": true
    },
    "kernelspec": {
      "name": "python3",
      "display_name": "Python 3"
    },
    "language_info": {
      "name": "python"
    }
  },
  "cells": [
    {
      "cell_type": "markdown",
      "metadata": {
        "id": "view-in-github",
        "colab_type": "text"
      },
      "source": [
        "<a href=\"https://colab.research.google.com/github/Soulthief3039/HelloWorld/blob/main/Stochastic_Gradient.ipynb\" target=\"_parent\"><img src=\"https://colab.research.google.com/assets/colab-badge.svg\" alt=\"Open In Colab\"/></a>"
      ]
    },
    {
      "cell_type": "code",
      "execution_count": 73,
      "metadata": {
        "id": "9N77cZU3B3TG"
      },
      "outputs": [],
      "source": [
        "import numpy as np\n",
        "import pandas as pd\n",
        "import matplotlib.pyplot as plt\n",
        "import seaborn as sns\n",
        "from sklearn import datasets\n",
        "from sklearn.model_selection import train_test_split\n"
      ]
    },
    {
      "cell_type": "code",
      "source": [
        "bc = datasets.load_breast_cancer()\n",
        "X = bc.data\n",
        "y = bc.target"
      ],
      "metadata": {
        "id": "6xHbkDiYD0PK"
      },
      "execution_count": 74,
      "outputs": []
    },
    {
      "cell_type": "code",
      "source": [
        "X_train, X_test, y_train, y_test = train_test_split(X, y, test_size=0.3, random_state=42)"
      ],
      "metadata": {
        "id": "n7ZXUTzNFoaV"
      },
      "execution_count": 75,
      "outputs": []
    },
    {
      "cell_type": "code",
      "source": [
        "class CustomPerceptron(object):\n",
        "  def __init__ (self, n_iterations=100, random_State=1, learning_rate=0.01):\n",
        "    self.n_iterations = n_iterations\n",
        "    self.random_State = random_State\n",
        "    self.learning_rate = learning_rate\n",
        "\n",
        "  def fit(self, X, y):\n",
        "    rgen =  np.random.RandomState(self.random_State)\n",
        "    self.coef_ = rgen.normal(loc=0.0, scale=0.01, size=1 + X.shape[1])\n",
        "    for i in range(self.n_iterations):\n",
        "      for xi, expected_value in zip(X, y):\n",
        "        predicted_value = self.predict(xi) # Now able to access predict\n",
        "        self.coef_[1:] += self.learning_rate * (expected_value - predicted_value) * xi\n",
        "        self.coef_[0] += self.learning_rate * (expected_value - predicted_value) * 1\n",
        "\n",
        "  # De-indent activation and predict to make them class methods\n",
        "  def activation(self, X):\n",
        "    return np.dot(X, self.coef_[1:]) + self.coef_[0]\n",
        "\n",
        "  def predict(self, X):\n",
        "    output = self.activation(X)\n",
        "    return np.where(output >= 0.0, 1, 0)\n",
        "\n",
        "  def score (self, X, y):\n",
        "    misclassified_data_count = 0  # Initialize the variable here\n",
        "    for xi, target in zip(X, y):\n",
        "      output = self.predict(xi)\n",
        "      if(target != output):\n",
        "        misclassified_data_count += 1\n",
        "    total_data_count = len(X)\n",
        "    self.score_ = (total_data_count - misclassified_data_count) / total_data_count\n",
        "    return self.score_"
      ],
      "metadata": {
        "id": "3rP_WB0JFwGP"
      },
      "execution_count": 91,
      "outputs": []
    },
    {
      "cell_type": "code",
      "source": [
        "n_iterations=100\n",
        "learning_rate=0.01"
      ],
      "metadata": {
        "id": "eeMLX6_eLwKW"
      },
      "execution_count": 92,
      "outputs": []
    },
    {
      "cell_type": "code",
      "source": [
        "prcptrn = CustomPerceptron()\n",
        "prcptrn.fit(X_train, y_train)"
      ],
      "metadata": {
        "id": "GVMuDk6nbqSR"
      },
      "execution_count": 93,
      "outputs": []
    },
    {
      "cell_type": "code",
      "source": [
        "print(prcptrn.score(X_test, y_test))\n",
        "prcptrn.score(X_train, y_train)"
      ],
      "metadata": {
        "id": "qYTnvBu2b-LN",
        "colab": {
          "base_uri": "https://localhost:8080/"
        },
        "outputId": "45a76442-32de-41d5-d1d4-ff35aed52911"
      },
      "execution_count": 94,
      "outputs": [
        {
          "output_type": "stream",
          "name": "stdout",
          "text": [
            "0.8245614035087719\n"
          ]
        },
        {
          "output_type": "execute_result",
          "data": {
            "text/plain": [
              "0.7613065326633166"
            ]
          },
          "metadata": {},
          "execution_count": 94
        }
      ]
    },
    {
      "cell_type": "code",
      "source": [],
      "metadata": {
        "id": "u1wMacz9hfTA"
      },
      "execution_count": null,
      "outputs": []
    }
  ]
}